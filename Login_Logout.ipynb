{
 "cells": [
  {
   "cell_type": "code",
   "execution_count": null,
   "id": "0a173a08",
   "metadata": {},
   "outputs": [],
   "source": [
    "# login_logout.py\n",
    "\n",
    "import users_db\n",
    "\n",
    "def login():\n",
    "    print(\"=== Log in ===\")\n",
    "    identifier = input(\"Enter your username or email: \")\n",
    "    password = input(\"Enter your password: \")\n",
    "\n",
    "    # Vérification champs obligatoires\n",
    "    if not identifier or not password:\n",
    "        print(\"All fields are required.\")\n",
    "        return None\n",
    "\n",
    "    # Vérifie si utilisateur existe (par username ou email)\n",
    "    user = users_db.find_user(identifier)\n",
    "    if not user:\n",
    "        print(\"User not found. Please check your username/email.\")\n",
    "        return None\n",
    "\n",
    "    # Vérifie mot de passe\n",
    "    if user[\"password\"] != password:\n",
    "        print(\"Wrong password.\")\n",
    "        return None\n",
    "\n",
    "    print(f\"Login successful. Welcome back, {user['username']}!\")\n",
    "    return user  # retourne le dictionnaire utilisateur connecté\n",
    "\n",
    "\n",
    "def logout(current_user):\n",
    "    if not current_user:\n",
    "        print(\"You are not logged in.\")\n",
    "        return None\n",
    "\n",
    "    print(f\"User {current_user['username']} has been logged out.\")\n",
    "    return None\n"
   ]
  }
 ],
 "metadata": {
  "language_info": {
   "name": "python"
  }
 },
 "nbformat": 4,
 "nbformat_minor": 5
}
